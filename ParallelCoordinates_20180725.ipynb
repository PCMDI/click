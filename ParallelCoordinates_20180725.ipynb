{
 "cells": [
  {
   "cell_type": "markdown",
   "metadata": {},
   "source": [
    "import necessary modules"
   ]
  },
  {
   "cell_type": "code",
   "execution_count": 1,
   "metadata": {},
   "outputs": [],
   "source": [
    "import vcs # For plots\n",
    "import vcsaddons # module containing pcoords\n",
    "import cdms2 # for data\n",
    "import glob # to list files in directories\n",
    "import pcmdi_metrics # for special json loader class\n",
    "import os\n",
    "import numpy as np\n",
    "from __future__ import print_function"
   ]
  },
  {
   "cell_type": "markdown",
   "metadata": {},
   "source": [
    "## Work around to visualize plot in Jupyter Notebook\n",
    "This class allow use to use vcsaddons plots "
   ]
  },
  {
   "cell_type": "code",
   "execution_count": 2,
   "metadata": {
    "scrolled": true
   },
   "outputs": [],
   "source": [
    "import tempfile\n",
    "import base64\n",
    "class VCSAddonsNotebook(object):\n",
    "    def __init__(self, x):\n",
    "        self.x = x\n",
    "    def _repr_png_(self):\n",
    "        fnm = tempfile.mktemp()+\".png\"\n",
    "        x.png(fnm)\n",
    "        encoded = base64.b64encode(open(fnm, \"rb\").read())\n",
    "        return encoded\n",
    "    def __call__(self):\n",
    "        return self"
   ]
  },
  {
   "cell_type": "markdown",
   "metadata": {},
   "source": [
    "# Data"
   ]
  },
  {
   "cell_type": "code",
   "execution_count": 3,
   "metadata": {},
   "outputs": [],
   "source": [
    "exp = 'historical'\n",
    "exp = 'amip'\n",
    "exp = 'picontrol'"
   ]
  },
  {
   "cell_type": "markdown",
   "metadata": {},
   "source": [
    "JSON read-in"
   ]
  },
  {
   "cell_type": "code",
   "execution_count": 4,
   "metadata": {},
   "outputs": [],
   "source": [
    "# Prepare list of json files\n",
    "\n",
    "# Location on your computer\n",
    "json_pth = \"/Users/lee1043/Documents/Research/PMP/ParallelCoordinates/JSONs/\"\n",
    "json_files = glob.glob(\n",
    "            os.path.join(\n",
    "                json_pth,\n",
    "                exp,\n",
    "                \"*_2.5x2.5_regrid2_regrid2_metrics_InterModelStat.json\"))\n",
    "\n",
    "#mypath = '/work/gleckler1/processed_data/cmip5clims_metrics_package-'+exp+'/cmec_11022017'\n",
    "mypath = \"/Users/lee1043/Documents/Research/PMP/ParallelCoordinates/JSONs/\"+exp\n",
    "onlyfiles = [f for f in os.listdir(mypath) if os.path.isfile(os.path.join(mypath, f))] \n",
    "#onlyfiles.remove('rst_2.5x2.5_regrid2_regrid2_metrics.json')\n",
    "json_files = []\n",
    "for onlyfile in onlyfiles:\n",
    "    json_files.append(os.path.join(mypath,onlyfile))\n",
    "    \n",
    "#print json_files"
   ]
  },
  {
   "cell_type": "markdown",
   "metadata": {},
   "source": [
    "Below loop is for getting units from JSON"
   ]
  },
  {
   "cell_type": "code",
   "execution_count": 5,
   "metadata": {},
   "outputs": [],
   "source": [
    "units_list=[]\n",
    "import json\n",
    "\n",
    "for json_file in json_files:\n",
    "    f = open(json_file)\n",
    "    d = json.loads(f.read())\n",
    "    f.close()\n",
    "\n",
    "    try:\n",
    "        units_list.append(d[\"RESULTS\"][\"ACCESS1-0\"][\"units\"])\n",
    "    except:\n",
    "        units_list.append('NOT_IN_JSON')\n",
    "        pass   "
   ]
  },
  {
   "cell_type": "code",
   "execution_count": 6,
   "metadata": {},
   "outputs": [
    {
     "name": "stdout",
     "output_type": "stream",
     "text": [
      "['ACCESS1-0', 'ACCESS1-3', 'bcc-csm1-1', 'bcc-csm1-1-m', 'CCSM4', 'CESM1-BGC', 'CESM1-CAM5', 'CESM1-FASTCHEM', 'CESM1-WACCM', 'CSIRO-Mk3-6-0', 'FGOALS-g2', 'GFDL-CM3', 'GFDL-ESM2G', 'GFDL-ESM2M', 'mean', 'median', 'MIROC4h']\n",
      "['median', 'mean', 'ACCESS1-0', 'ACCESS1-3', 'bcc-csm1-1', 'bcc-csm1-1-m', 'CCSM4', 'CESM1-BGC', 'CESM1-CAM5', 'CESM1-FASTCHEM', 'CESM1-WACCM', 'CSIRO-Mk3-6-0', 'FGOALS-g2', 'GFDL-CM3', 'GFDL-ESM2G', 'GFDL-ESM2M', 'MIROC4h']\n"
     ]
    }
   ],
   "source": [
    "models = sorted(d['RESULTS'].keys(),key=lambda s: s.lower())\n",
    "print(models)\n",
    "models.insert(0, models.pop(models.index('median')))\n",
    "models.insert(1, models.pop(models.index('mean')))\n",
    "print(models)"
   ]
  },
  {
   "cell_type": "code",
   "execution_count": 7,
   "metadata": {
    "scrolled": false
   },
   "outputs": [],
   "source": [
    "# Read them in via pmp special json class\n",
    "J = pcmdi_metrics.pcmdi.io.JSONs(json_files)\n",
    "\n",
    "# Retrieve data we need for plot\n",
    "# Annual mean RMS (XYT dimensions)\n",
    "# All models and all variables\n",
    "rms_xyt = J(statistic=[\"rms_xy\"],season=[\"ann\"],region=\"global\",model=models)(squeeze=1)\n",
    "rms_xyt_djf = J(statistic=[\"rms_xy\"],season=[\"djf\"],region=\"global\",model=models)(squeeze=1)\n",
    "rms_xyt_mam = J(statistic=[\"rms_xy\"],season=[\"mam\"],region=\"global\",model=models)(squeeze=1)\n",
    "rms_xyt_jja = J(statistic=[\"rms_xy\"],season=[\"jja\"],region=\"global\",model=models)(squeeze=1)\n",
    "rms_xyt_son = J(statistic=[\"rms_xy\"],season=[\"son\"],region=\"global\",model=models)(squeeze=1)"
   ]
  },
  {
   "cell_type": "markdown",
   "metadata": {},
   "source": [
    "Let's take a look at the array generated\n",
    "Note the axis are strings of varialbes used and models\n",
    "The order of the axes is the order on the plot"
   ]
  },
  {
   "cell_type": "code",
   "execution_count": 8,
   "metadata": {},
   "outputs": [],
   "source": [
    "# Ok now let's create a VCS pcoord graphic method\n",
    "\n",
    "# initialize a canvas\n",
    "x = vcs.init(geometry=(1200,800),bg=True)"
   ]
  },
  {
   "cell_type": "markdown",
   "metadata": {},
   "source": [
    "# Preparing the plot\n",
    "## Data\n",
    "'id' is used for variable in plot the JSON class returns var as \"pmp\", here \"RMS\" is more appropriate\n",
    "\n",
    "'title' is used to draw the plot title (location/font controlled by template)\n",
    "\n",
    "## Template\n",
    "The template section prepares where data will be rendered on plot, and the fonts used\n",
    "\n",
    "fonts are controlled via textorientation and texttable VCS primary objects\n",
    "\n",
    "Here we need to angle a bit the xlabels (45 degrees)\n",
    "\n",
    "We also want to turn off the boxes around the legend and the data area."
   ]
  },
  {
   "cell_type": "code",
   "execution_count": 9,
   "metadata": {},
   "outputs": [],
   "source": [
    "# Prepare the graphics\n",
    "# Set variable name\n",
    "rms_xyt.id = \"RMS\"\n",
    "# Set units of each variables on axis\n",
    "# This is a trick to have units listed on plot\n",
    "rms_xyt.getAxis(-2).units = units_list\n",
    "# Sets title on the variable\n",
    "rms_xyt.title = \"Annual Mean Absolute Error\"\n",
    "\n",
    "# Preprare the canvas areas\n",
    "t = vcs.createtemplate()\n",
    "# Create a text orientation object for xlabels\n",
    "to = x.createtextorientation()\n",
    "to.angle = -75\n",
    "to.halign = \"right\"\n",
    "# Tell template to use this orientation for x labels\n",
    "t.xlabel1.textorientation = to.name\n",
    "\n",
    "# Define area where plot will be drawn in x direction\n",
    "t.reset('x',0.05,0.9,t.data.x1,t.data.x2)\n",
    "ln = vcs.createline()\n",
    "\n",
    "# Turn off box around legend\n",
    "ln.color = [[0,0,0,0]]\n",
    "t.legend.line = ln\n",
    "# turn off box around data area\n",
    "t.box1.priority = 0\n",
    "\n",
    "# Define box where legend will be drawn\n",
    "t.legend.x1 = .91\n",
    "t.legend.x2 = .99\n",
    "# use x/y of data drawn for legend height\n",
    "t.legend.y1 = 0.1\n",
    "t.legend.y2 = 0.9"
   ]
  },
  {
   "cell_type": "markdown",
   "metadata": {},
   "source": [
    "## Graphic method\n",
    "Set graphic method as parallel coordinate plot"
   ]
  },
  {
   "cell_type": "code",
   "execution_count": 10,
   "metadata": {},
   "outputs": [],
   "source": [
    "def set_pcoord_gm(x):\n",
    "\n",
    "    gm = vcsaddons.createparallelcoordinates(x=x)\n",
    "\n",
    "    # Control line colors\n",
    "    gm.colormap = 'rainbow'\n",
    "    gm.linecolors = vcs.getcolors(list(np.arange(len(models))), range(16,240))\n",
    "    gm.linewidths=[5.,5.,1.]\n",
    "\n",
    "    # Control markers\n",
    "    gm.markersizes = [0,0,1.2]\n",
    "    gm.markertypes = [\n",
    "        'cross', 'cross', \n",
    "        'star','diamond_fill','triangle_up_fill','triangle_down_fill','square_fill',\n",
    "        'star','diamond_fill','triangle_up_fill','triangle_down_fill','square_fill',\n",
    "        'star','diamond_fill','triangle_up_fill','triangle_down_fill','square_fill',\n",
    "        'star','diamond_fill','triangle_up_fill','triangle_down_fill','square_fill',\n",
    "        'star','diamond_fill','triangle_up_fill','triangle_down_fill','square_fill',\n",
    "        'star','diamond_fill','triangle_up_fill','triangle_down_fill','square_fill',\n",
    "        'star','diamond_fill','triangle_up_fill','triangle_down_fill','square_fill',\n",
    "        'star','diamond_fill','triangle_up_fill','triangle_down_fill','square_fill',\n",
    "        'star','diamond_fill','triangle_up_fill','triangle_down_fill','square_fill',   \n",
    "        'dot',\n",
    "        ]\n",
    "\n",
    "    return(gm)"
   ]
  },
  {
   "cell_type": "markdown",
   "metadata": {},
   "source": [
    "## Generate parallel plot for annual mean"
   ]
  },
  {
   "cell_type": "code",
   "execution_count": 11,
   "metadata": {},
   "outputs": [
    {
     "name": "stderr",
     "output_type": "stream",
     "text": [
      "/Users/lee1043/anaconda2/envs/pmp_nightly_20180721/lib/python3.6/site-packages/vcs/VTKPlots.py:1024: MaskedArrayFutureWarning: setting an item on a masked array which has a shared mask will not copy the mask and also change the original mask array in the future.\n",
      "Check the NumPy 1.11 release notes for more information.\n",
      "  data[:] = numpy.ma.masked_invalid(data, numpy.nan)\n"
     ]
    }
   ],
   "source": [
    "# Plot with default values of graphic method\n",
    "x.clear()\n",
    "vcs.utils.defaultColorsRange = range(16,240)\n",
    "x.setcolormap(\"rainbow\")\n",
    "\n",
    "gm = set_pcoord_gm(x)\n",
    "gm.plot(rms_xyt, template=t, bg=True)\n",
    "\n",
    "x.png('Parallel_Plot_'+exp+'_ann.png')"
   ]
  },
  {
   "cell_type": "markdown",
   "metadata": {},
   "source": [
    "## Loop for generating parallel plots for seasons"
   ]
  },
  {
   "cell_type": "code",
   "execution_count": 12,
   "metadata": {},
   "outputs": [
    {
     "name": "stderr",
     "output_type": "stream",
     "text": [
      "/Users/lee1043/anaconda2/envs/pmp_nightly_20180721/lib/python3.6/site-packages/vcs/VTKPlots.py:1024: MaskedArrayFutureWarning: setting an item on a masked array which has a shared mask will not copy the mask and also change the original mask array in the future.\n",
      "Check the NumPy 1.11 release notes for more information.\n",
      "  data[:] = numpy.ma.masked_invalid(data, numpy.nan)\n"
     ]
    }
   ],
   "source": [
    "for season in ['djf','mam','jja','son']:\n",
    "    x.clear()\n",
    "    \n",
    "    if season == 'djf':\n",
    "        d = rms_xyt_djf\n",
    "    elif season == 'mam':\n",
    "        d = rms_xyt_mam\n",
    "    elif season == 'jja':\n",
    "        d = rms_xyt_jja\n",
    "    elif season == 'son':\n",
    "        d = rms_xyt_son\n",
    "        \n",
    "    # Set variable name\n",
    "    d.id = \"RMS\"\n",
    "    # Set units of each variables on axis\n",
    "    # This is a trick to have units listed on plot\n",
    "    d.getAxis(-2).units = units_list\n",
    "    # Sets title on the variable\n",
    "    d.title = season.upper()+\" Mean Absolute Error, \"+exp.upper()\n",
    "\n",
    "    gm = set_pcoord_gm(x)\n",
    "    gm.plot(d, template=t, bg=True)\n",
    "    x.png('Parallel_Plot_'+exp+'_'+season+'.png')"
   ]
  }
 ],
 "metadata": {
  "anaconda-cloud": {},
  "kernelspec": {
   "display_name": "Python [conda env:pmp_nightly_20180721]",
   "language": "python",
   "name": "conda-env-pmp_nightly_20180721-py"
  },
  "language_info": {
   "codemirror_mode": {
    "name": "ipython",
    "version": 3
   },
   "file_extension": ".py",
   "mimetype": "text/x-python",
   "name": "python",
   "nbconvert_exporter": "python",
   "pygments_lexer": "ipython3",
   "version": "3.6.5"
  }
 },
 "nbformat": 4,
 "nbformat_minor": 1
}
